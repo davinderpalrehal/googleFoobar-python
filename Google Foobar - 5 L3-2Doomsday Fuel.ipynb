{
 "cells": [
  {
   "cell_type": "markdown",
   "metadata": {},
   "source": [
    "# Doomsday Fuel\n",
    "---\n",
    "Making fuel for the LAMBCHOP's reactor core is a tricky process because of the exotic matter involved. It starts as raw ore, then during processing, begins randomly changing between forms, eventually reaching a stable form. There may be multiple stable forms that a sample could ultimately reach, not all of which are useful as fuel.\n",
    "\n",
    "Commander Lambda has tasked you to help the scientists increase fuel creation efficiency by predicting the end state of a given ore sample. You have carefully studied the different structures that the ore can take and which transitions it undergoes. It appears that, while random, the probability of each structure transforming is fixed. That is, each time the ore is in 1 state, it has the same probabilities of entering the next state (which might be the same state). You have recorded the observed transitions in a matrix. The others in the lab have hypothesized more exotic forms that the ore can become, but you haven't seen all of them.\n",
    "\n",
    "Write a function solution(m) that takes an array of array of nonnegative ints representing how many times that state has gone to the next state and return an array of ints for each terminal state giving the exact probabilites of each terminal state, represented as the numerator for each state, then the denominator for all of them at the end and in simplest form. The matrix is at most 10 by 10. It is guaranteed that no matter which state the ore is in, there is a path from that state to a terminal state. That is, the processing will always eventually end in a stable state. The ore starts in state 0. The denominator will fit within a signed 32-bit integer during the calculation, as long as the fraction is simplified regularly.\n",
    "\n",
    "For example, consider the matrix m:\n",
    "```\n",
    "[\n",
    "  [0,1,0,0,0,1], # s0, the initial state, goes to s1 and s5 with equal probability\n",
    "  [4,0,0,3,2,0], # s1 can become s0, s3, or s4, but with different probabilities\n",
    "  [0,0,0,0,0,0], # s2 is terminal, and unreachable (never observed in practice)\n",
    "  [0,0,0,0,0,0], # s3 is terminal\n",
    "  [0,0,0,0,0,0], # s4 is terminal\n",
    "  [0,0,0,0,0,0], # s5 is terminal\n",
    "]\n",
    "```\n",
    "So, we can consider different paths to terminal states, such as:\n",
    "\n",
    "s0 -> s1 -> s3\n",
    "\n",
    "s0 -> s1 => s0 -> s1 -> s0 -> s1 -> s4\n",
    "\n",
    "s0 -> s1 -> s0 -> s5\n",
    "\n",
    "Tracing the probabilities of each, we find that\n",
    "\n",
    "- s2 has probability 0\n",
    "- s3 has probability 3/14\n",
    "- s4 has probability 1/7\n",
    "- s5 has probability 9/14\n",
    "\n",
    "So, putthing that together, and making a common denominator, gives an answer in the form of\n",
    "[s2.numerator, s3.numerator, s4.numerator, s5.numerator, denominator] whis is [0, 3, 2, 9, 14]\n",
    "\n",
    "## Languages\n",
    "---\n",
    "To provide a Java solution, edit `Solution.java`\n",
    "\n",
    "To provide a Python solution, edit `solution.py`\n",
    "\n",
    "## Test cases\n",
    "---\n",
    "Your code should pass the following test cases.\n",
    "\n",
    "Note that it may also be run against hidden test cases not shown here\n",
    "\n",
    "\n",
    "-- Java cases --\n",
    "\n",
    "Input:\n",
    "Solution.solution({{0, 1, 0, 0, 0, 1}, {4, 0, 0, 3, 2, 0}, {0, 0, 0, 0, 0, 0}, {0, 0, 0, 0, 0, 0}, {0, 0, 0, 0, 0, 0}, {0, 0, 0, 0, 0, 0}})\n",
    "\n",
    "Output:\n",
    "    [0, 3, 2, 9, 14]\n",
    "\n",
    "Input:\n",
    "Solution.solution({{0, 2, 1, 0, 0}, {0, 0, 0, 3, 4}, {0, 0, 0, 0, 0}, {0, 0, 0, 0,0}, {0, 0, 0, 0, 0}})\n",
    "\n",
    "Output:\n",
    "    [7, 6, 8, 21]\n",
    "\n",
    "-- Python cases --\n",
    "\n",
    "Input:\n",
    "solution.solution([[0, 2, 1, 0, 0], [0, 0, 0, 3, 4], [0, 0, 0, 0, 0], [0, 0, 0, 0,0], [0, 0, 0, 0, 0]])\n",
    "\n",
    "Output:\n",
    "    [7, 6, 8, 21]\n",
    "\n",
    "Input:\n",
    "solution.solution([[0, 1, 0, 0, 0, 1], [4, 0, 0, 3, 2, 0], [0, 0, 0, 0, 0, 0], [0, 0, 0, 0, 0, 0], [0, 0, 0, 0, 0, 0], [0, 0, 0, 0, 0, 0]])\n",
    "\n",
    "Output:\n",
    "    [0, 3, 2, 9, 14]\n",
    "\n",
    "Use `verify [file]` to test your solution and see how it does. When you are finished editing your code, use `submit [file]` to submit your answer. If your solution passes the test cases, it will be removed from your home folder."
   ]
  },
  {
   "cell_type": "markdown",
   "metadata": {},
   "source": [
    "Go through https://gist.github.com/algomaster99/782b898177ca37bfbf955cec416bb6a4"
   ]
  },
  {
   "cell_type": "code",
   "execution_count": 7,
   "metadata": {},
   "outputs": [
    {
     "name": "stderr",
     "output_type": "stream",
     "text": [
      "505.60s - pydevd: Sending message related to process being replaced timed-out after 5 seconds\n"
     ]
    },
    {
     "name": "stdout",
     "output_type": "stream",
     "text": [
      "Defaulting to user installation because normal site-packages is not writeable\n",
      "Requirement already satisfied: numpy in /Users/davinderpalrehal/Library/Python/3.9/lib/python/site-packages (1.26.0)\n",
      "\u001b[33mWARNING: You are using pip version 21.2.4; however, version 23.2.1 is available.\n",
      "You should consider upgrading via the '/Library/Developer/CommandLineTools/usr/bin/python3 -m pip install --upgrade pip' command.\u001b[0m\n",
      "Note: you may need to restart the kernel to use updated packages.\n"
     ]
    }
   ],
   "source": [
    "pip install numpy"
   ]
  },
  {
   "cell_type": "code",
   "execution_count": 8,
   "metadata": {},
   "outputs": [],
   "source": [
    "import numpy as np\n",
    "\n",
    "def detect_states(matrix):\n",
    "    active, terminal = [], []\n",
    "    for index, row in enumerate(matrix):\n",
    "        if sum(row) == 0:\n",
    "            terminal.append(index)\n",
    "        else:\n",
    "            active.append(index)\n",
    "    return(active,terminal)\n",
    "\n",
    "def simplest_form(B):\n",
    "    B = B.round().astype(int).A1\n",
    "    gcd = np.gcd.reduce(B)\n",
    "    B = np.append(B, B.sum())\n",
    "    return (B / gcd).astype(int)\n",
    "\n",
    "def solution(m):\n",
    "    active, terminal = detect_states(m)\n",
    "    if 0 in terminal:\n",
    "        return [1] + [0]*len(terminal[1:]) + [1]\n",
    "    m = np.matrix(m, dtype=float)[active, :]\n",
    "    comm_denom = np.prod(m.sum(1))\n",
    "    P = m / m.sum(1)\n",
    "    Q, R = P[:, active], P[:, terminal]\n",
    "    I = np.identity(len(Q))\n",
    "    N = (I - Q) ** (-1)\n",
    "    B = N[0] * R * comm_denom / np.linalg.det(N)\n",
    "    return simplest_form(B)"
   ]
  },
  {
   "cell_type": "code",
   "execution_count": 9,
   "metadata": {},
   "outputs": [
    {
     "name": "stdout",
     "output_type": "stream",
     "text": [
      "[ 7  6  8 21]\n"
     ]
    }
   ],
   "source": [
    "print(solution([[0, 2, 1, 0, 0], [0, 0, 0, 3, 4], [0, 0, 0, 0, 0], [0, 0, 0, 0,0], [0, 0, 0, 0, 0]]))\n",
    "# print(solution([[0, 1, 0, 0, 0, 1], [4, 0, 0, 3, 2, 0], [0, 0, 0, 0, 0, 0], [0, 0, 0, 0, 0, 0], [0, 0, 0, 0, 0, 0], [0, 0, 0, 0, 0, 0]]))"
   ]
  }
 ],
 "metadata": {
  "kernelspec": {
   "display_name": "Python 3",
   "language": "python",
   "name": "python3"
  },
  "language_info": {
   "codemirror_mode": {
    "name": "ipython",
    "version": 3
   },
   "file_extension": ".py",
   "mimetype": "text/x-python",
   "name": "python",
   "nbconvert_exporter": "python",
   "pygments_lexer": "ipython3",
   "version": "3.0.0"
  },
  "orig_nbformat": 4
 },
 "nbformat": 4,
 "nbformat_minor": 2
}
