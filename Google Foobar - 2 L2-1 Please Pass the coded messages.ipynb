{
 "cells": [
  {
   "cell_type": "markdown",
   "metadata": {},
   "source": [
    "# Please Pass the Coded Messages\n",
    "---\n",
    "\n",
    "You need to pass a message to the bunny workers, but to avoid detection, the code you agreed to use is... obscure, to say the least. The bunnies are given food on startard-issue plates that are stamped with the numbers 0-9 for easier sorting, and you need to combine sets of plates to create the numbers in the code. The signal trickier. Write a program to help yourself quickly create large numbers for use in the code, given a limited number of plates to work with.\n",
    "\n",
    "You have L, a list contianing some digits (0 to 9). Write a function solution(L) which finds the largest number that can be made from some or all of these digits and is divisible by 3. If it is not possible to make such a number, return 0 as the solution. L will contian anywhere from 1 to 9 digits. The same digit may appear multiple times in the list, but each element in the list may only be used once.\n",
    "\n",
    "## Languages\n",
    "---\n",
    "\n",
    "To provide a Java solution, edit Solution.java\n",
    "To provide a Python solution, edit solution.py\n",
    "\n",
    "## Test cases\n",
    "---\n",
    "\n",
    "Your code should pass the following test cases.\n",
    "Not that it may also be run against hidden test cases not shown here.\n",
    "\n",
    "-- Java cases --\n",
    "\n",
    "Input:\n",
    "Solution.solution({3, 1, 4, 1})\n",
    "\n",
    "Output:\n",
    "  4311\n",
    "\n",
    "Input:\n",
    "Solution.solution({3, 1, 4, 1, 5, 9})\n",
    "\n",
    "Output:\n",
    "  94311\n",
    "\n",
    "-- Python cases --\n",
    "\n",
    "Input:\n",
    "solution.solution([3, 1, 4, 1])\n",
    "\n",
    "Output:\n",
    "  4311\n",
    "\n",
    "Input:\n",
    "solution.solution([3, 1, 4, 1, 5, 9])\n",
    "\n",
    "Output:\n",
    "  94311\n",
    "\n",
    "Use `verify [file]` to test your solution and see how it does. When you are finished editing your code, use `submit [file]` to submit your answer. If your solution passes the test cases, it will be removed from your home folder."
   ]
  },
  {
   "cell_type": "code",
   "execution_count": 74,
   "metadata": {},
   "outputs": [
    {
     "name": "stdout",
     "output_type": "stream",
     "text": [
      "65014073\n"
     ]
    }
   ],
   "source": [
    "import random\n",
    "print(random.randint(10000, 99999999))"
   ]
  },
  {
   "cell_type": "code",
   "execution_count": 75,
   "metadata": {},
   "outputs": [],
   "source": [
    "def solution(l):\n",
    "    if not l:\n",
    "        return 0\n",
    "\n",
    "    if not all(isinstance(i, int) for i in l):\n",
    "        return 0\n",
    "\n",
    "    if not all(i >= 0 for i in l):\n",
    "        return 0\n",
    "\n",
    "    if any(i > 10**18 for i in l):\n",
    "        return 0\n",
    "\n",
    "    l.sort(reverse=True)\n",
    "    total = sum(l)\n",
    "    remainder = total % 3\n",
    "\n",
    "    if remainder != 0:\n",
    "        remainder_digits = [digit for digit in l if digit % 3 == remainder]\n",
    "        if remainder_digits:\n",
    "            min_val = min(remainder_digits)\n",
    "            l.remove(min_val)\n",
    "        else:\n",
    "            complementary_remainder_digits = sorted([digit for digit in l if digit % 3 == 3 - remainder])\n",
    "            if len(complementary_remainder_digits) >= 2:\n",
    "                l.remove(complementary_remainder_digits[0])\n",
    "                l.remove(complementary_remainder_digits[1])\n",
    "            else:\n",
    "                same_remainder_digits = sorted([digit for digit in l if digit % 3 == remainder], reverse=True)\n",
    "                while sum(l) % 3 != 0 and same_remainder_digits:\n",
    "                    l.remove(same_remainder_digits.pop())\n",
    "    \n",
    "    if all(i == 0 for i in l):\n",
    "        return 0\n",
    "\n",
    "    return int(''.join(map(str, sorted(l, reverse=True))))\n"
   ]
  },
  {
   "cell_type": "code",
   "execution_count": 85,
   "metadata": {},
   "outputs": [
    {
     "name": "stdout",
     "output_type": "stream",
     "text": [
      "988653 True\n"
     ]
    }
   ],
   "source": [
    "# print(solution([]) == 0)\n",
    "# print(solution([1,2]) == 21)\n",
    "# print(solution([3, 1, 4, 1]) == 4311)\n",
    "# print(solution([3, 1, 4, 1, 5, 9]), solution([3, 1, 4, 1, 5, 9]) == 94311)\n",
    "# print(solution([9, 7, 6, 0, 7]) == 960)\n",
    "# print(solution([1,7,0,1,4]) == 7410)\n",
    "# print(solution([2,1,7,1,9,3,0]), solution([2,1,7,1,9,3,0]) == 973110)\n",
    "print(solution([1,5,9,3,8,8,6]), solution([1,5,9,3,8,8,6]) == 988653)\n",
    "# print(solution([6,3,0,2,2,6,0,4]) == 6643200)"
   ]
  }
 ],
 "metadata": {
  "kernelspec": {
   "display_name": "Python 3",
   "language": "python",
   "name": "python3"
  },
  "language_info": {
   "codemirror_mode": {
    "name": "ipython",
    "version": 3
   },
   "file_extension": ".py",
   "mimetype": "text/x-python",
   "name": "python",
   "nbconvert_exporter": "python",
   "pygments_lexer": "ipython3",
   "version": "3.0.0"
  },
  "orig_nbformat": 4
 },
 "nbformat": 4,
 "nbformat_minor": 2
}
