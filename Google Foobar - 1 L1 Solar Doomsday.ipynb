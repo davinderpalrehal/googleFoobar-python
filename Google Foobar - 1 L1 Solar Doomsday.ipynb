{
 "cells": [
  {
   "cell_type": "markdown",
   "id": "706eb1db",
   "metadata": {},
   "source": [
    "# Solar Doomsday\n",
    "---\n",
    "\n",
    "Who would've guessed? Doomsday devices take a LOT of power. Commander Lambda wants to supplement the LAMBCHOP's quantum antimatter reactor core with solar arrays, and you've been tasked with setting up the solar panels.\n",
    "\n",
    "Due to the nature of the space station's out paneling, all of its solar panels must be squares. Fortunately, you have one very large and flat area of solar material, a pair of industrial-strength scissors, and enough MegaCorp Solar Tape(TM) to piece together any excess panel material into more squares. For example, if you had a total of 12 square yards of solar material, you would be able to make one 3x3 square panel (with a total area of 9). That would leave 3 square yards, so you can turn those into three 1x1 square solar panels.\n",
    "\n",
    "Write a function solution(area) that takes as its input a single unit of measure representing the total areaa of solar panels you have (between 1 and 1,000,000 inclusive) and returns a list of areas of the largest squares you could make out of those panels, starting with the largest squares first. So, following the example above, solution(12) would return [9, 1, 1, 1].\n",
    "\n",
    "## Languages\n",
    "---\n",
    "\n",
    "To provide a Python solution, edit solution.py\n",
    "To provide a Java solution, edit Solution.java\n",
    "\n",
    "## Test cases\n",
    "---\n",
    "\n",
    "Your code should pass the following test cases.\n",
    "Note that it may also be run against hidden test cases not shown here.\n",
    "\n",
    "-- Python cases --\n",
    "\n",
    "Input:\n",
    "soluition.solution(12)\n",
    "Output:\n",
    "    9,1,1,1\n",
    "    \n",
    "Input:\n",
    "solution.solution(15324)\n",
    "Output:\n",
    "    15129,169,25,1\n",
    "    \n",
    "-- Java cases --\n",
    "\n",
    "Input:\n",
    "Soluition.solution(12)\n",
    "Output:\n",
    "    9,1,1,1\n",
    "    \n",
    "Input:\n",
    "Solution.solution(15324)\n",
    "Output:\n",
    "    15129,169,25,1\n",
    "\n",
    "Use `verify [file]` to test your solution as see how it does. When you are finished editing your code, use `submit [file]` to submit your answer. If your solution passes the test cases, it will be removed from your home folder."
   ]
  },
  {
   "cell_type": "code",
   "execution_count": 4,
   "id": "e02de359",
   "metadata": {},
   "outputs": [],
   "source": [
    "def floored_square_root(number):\n",
    "    if number < 2:\n",
    "        return number\n",
    "    \n",
    "    start = 2\n",
    "    end = number\n",
    "    \n",
    "    while start <= end:\n",
    "        mid = (start + end) // 2\n",
    "        square = mid * mid\n",
    "        \n",
    "        if square == number:\n",
    "            return mid\n",
    "        elif square < number:\n",
    "            start = mid + 1\n",
    "        else:\n",
    "            end = mid - 1\n",
    "    \n",
    "    return start - 1\n",
    "\n",
    "def solution(area):\n",
    "    squares = []\n",
    "    while area > 0:\n",
    "        biggest_sq = floored_square_root(area)\n",
    "        area -= biggest_sq ** 2\n",
    "        squares.append(biggest_sq ** 2)\n",
    "\n",
    "    return squares"
   ]
  },
  {
   "cell_type": "code",
   "execution_count": 5,
   "id": "603fd1ed",
   "metadata": {},
   "outputs": [],
   "source": [
    "assert [9,1,1,1] == solution(12), \"Test failed\""
   ]
  },
  {
   "cell_type": "code",
   "execution_count": 6,
   "id": "2af0ffd1",
   "metadata": {},
   "outputs": [],
   "source": [
    "assert [15129,169,25,1] == solution(15324), \"Test failed\""
   ]
  },
  {
   "cell_type": "code",
   "execution_count": 7,
   "id": "6fa21ad5",
   "metadata": {},
   "outputs": [
    {
     "name": "stdout",
     "output_type": "stream",
     "text": [
      "[16, 4, 1, 1]\n"
     ]
    }
   ],
   "source": [
    "print(solution(22))"
   ]
  }
 ],
 "metadata": {
  "kernelspec": {
   "display_name": "Python 3 (ipykernel)",
   "language": "python",
   "name": "python3"
  },
  "language_info": {
   "codemirror_mode": {
    "name": "ipython",
    "version": 3
   },
   "file_extension": ".py",
   "mimetype": "text/x-python",
   "name": "python",
   "nbconvert_exporter": "python",
   "pygments_lexer": "ipython3",
   "version": "3.9.6"
  }
 },
 "nbformat": 4,
 "nbformat_minor": 5
}
