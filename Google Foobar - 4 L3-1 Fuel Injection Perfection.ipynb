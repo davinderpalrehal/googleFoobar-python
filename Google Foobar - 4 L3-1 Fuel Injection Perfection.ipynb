{
 "cells": [
  {
   "cell_type": "markdown",
   "metadata": {},
   "source": [
    "# Fuel Injection Perfection\n",
    "---\n",
    "Commander Lambda has asked for your help to refine the automatic quantum antimatter fuel injection system for the LAMBCHOP doomsday device. It's a great chance for you to get a closer look at the LAMBCHOP -- and maybe sneak in a bit of sabotage while you're at it -- so you took the job gladly.\n",
    "\n",
    "Quantum antimatter fuel comes in small pellets, which is convenient since the many moving parts of the LAMBCHOP each need to be fed fuel one pellet at a time. However, minions dump pellets in bulk into the fuel intake. You need to figure out the most efficient way to sort and shift the pellets down to a single pellet at a time.\n",
    "\n",
    "The fuel control mechanisms have three operations:\n",
    "\n",
    "1) Add one fuel pellet\n",
    "2) Remove one fuel pellet\n",
    "3) Divide the entire group of fuel pellets by 2 (due to the destructive energy released when a quantum antimatter pellet is cut in half, the safety controls will only allow this to happen if there is an even number of pellets)\n",
    "\n",
    "Write a function called solution(n) which takes a positive integer as a string and returns the minimum number of operations needed to transform the number of pellets to 1. The fuel intake control panel can only display a number up to 309 digits long, so there won't ever be more pellets than you can express in that many digits.\n",
    "\n",
    "For example:\n",
    "solution(4) returns 2: 4 -> 2 -> 1\n",
    "solution(15) returns 5: 15 -> 16 -> 8 -> 4 -> 2 -> 1\n",
    "Quantum antimatter fuel comes in small pellets, which is convenient since the many moving parts of the LAMBCHOP each need to be fed fuel one pellet at a time. However, minions dump pellets in bulk into the fuel intake. You need to figure out the most efficient way to sort and shift the pellets down to a single pellet at a time.\n",
    "\n",
    "The fuel control mechanisms have three operations:\n",
    "\n",
    "1) Add one fuel pellet\n",
    "2) Remove one fuel pellet\n",
    "3) Divide the entire group of fuel pellets by 2 (due to the destructive energy released when a quantum antimatter pellet is cut in half, the safety controls will only allow this to happen if there is an even number of pellets)\n",
    "\n",
    "Write a function called solution(n) which takes a positive integer as a string and returns the minimum number of operations needed to transform the number of pellets to 1. The fuel intake control panel can only display a number up to 309 digits long, so there won't ever be more pellets than you can express in that many digits.\n",
    "\n",
    "For example:\n",
    "\n",
    "solution(4) returns 2: 4 -> 2 -> 1\n",
    "solution(15) returns 5: 15 -> 16 -> 8 -> 4 -> 2 -> 1\n",
    "\n",
    "## Languages\n",
    "---\n",
    "\n",
    "To provide a Python solution, edit solution.py\n",
    "To provide a Java solution, edit Solution.java\n",
    "\n",
    "## Test cases\n",
    "---\n",
    "Your code should pass the following test cases.\n",
    "Note that it may also be run against hidden test cases not shown here.\n",
    "\n",
    "-- Python cases --\n",
    "\n",
    "Input:\n",
    "solution.solution('15')\n",
    "\n",
    "Output:\n",
    "    5\n",
    "\n",
    "Input:\n",
    "solution.solution('4')\n",
    "\n",
    "Output:\n",
    "    2\n",
    "\n",
    "-- Java cases --\n",
    "\n",
    "Input:\n",
    "Solution.solution('15')\n",
    "\n",
    "Output:\n",
    "    5\n",
    "\n",
    "Input:\n",
    "Solution.solution('4')\n",
    "\n",
    "Output:\n",
    "    2\n",
    "\n",
    "Use `verify [file]` to test your solution and see how it does. When you are finished editing your code, use `submit [file]` to submit your answer. If your solution passes the test cases, it will be removed from your home folder."
   ]
  },
  {
   "cell_type": "code",
   "execution_count": 26,
   "metadata": {},
   "outputs": [],
   "source": [
    "def priority(n):\n",
    "    return (n % 2 == 0) + (n % 4 == 0) + ((n == 2) * 3)\n",
    "\n",
    "\n",
    "def solution(n):\n",
    "    pellets = int(n)\n",
    "    operations = 0\n",
    "\n",
    "    while pellets > 1:\n",
    "        chosen = pellets + 1\n",
    "        priority_c = priority(chosen)\n",
    "        priority_n = priority(pellets - 1)\n",
    "        if priority_n >= priority_c:\n",
    "            chosen = pellets - 1\n",
    "            priority_c = priority_n\n",
    "        if pellets % 2 == 0:\n",
    "            priority_n = priority(pellets // 2)\n",
    "            if priority_n >= priority_c:\n",
    "                chosen = pellets // 2\n",
    "        pellets = chosen\n",
    "        operations += 1\n",
    "    return operations\n"
   ]
  },
  {
   "cell_type": "code",
   "execution_count": 27,
   "metadata": {},
   "outputs": [
    {
     "name": "stdout",
     "output_type": "stream",
     "text": [
      "True\n",
      "True\n",
      "1278\n"
     ]
    }
   ],
   "source": [
    "print(solution('15') == 5)\n",
    "print(solution('4') == 2)\n",
    "print(solution(str(10**309 - 1)))"
   ]
  }
 ],
 "metadata": {
  "kernelspec": {
   "display_name": "Python 3",
   "language": "python",
   "name": "python3"
  },
  "language_info": {
   "codemirror_mode": {
    "name": "ipython",
    "version": 3
   },
   "file_extension": ".py",
   "mimetype": "text/x-python",
   "name": "python",
   "nbconvert_exporter": "python",
   "pygments_lexer": "ipython3",
   "version": "3.0.0"
  },
  "orig_nbformat": 4
 },
 "nbformat": 4,
 "nbformat_minor": 2
}
